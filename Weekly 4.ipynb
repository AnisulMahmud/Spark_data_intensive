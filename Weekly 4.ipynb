{
 "cells": [
  {
   "cell_type": "markdown",
   "metadata": {
    "application/vnd.databricks.v1+cell": {
     "cellMetadata": {
      "byteLimit": 2048000,
      "rowLimit": 10000
     },
     "inputWidgets": {},
     "nuid": "592eec81-90e7-4a23-a026-e5942c048488",
     "showTitle": false,
     "title": ""
    }
   },
   "source": [
    "# COMP.CS.320 Data-Intensive Programming, Exercise 4\n",
    "\n",
    "This exercise is in two parts and contains tasks related to the use of Spark machine learning library and the low-level distributed datasets, RDDs. The tasks can be done in either Scala or Python. This is the **Python** version, switch to the Scala version if you want to do the tasks in Scala.\n",
    "\n",
    "- Tasks 1-4 goes through an ML example by training a linear regression model to 2-dimensional data and then using the trained model.\n",
    "- Tasks 5-7 provides some examples for the usage of RDDs.\n",
    "\n",
    "Each task has its own cell for the code. Add your solutions to the cells. You are free to add more cells if you feel it is necessary. There are cells with example outputs or test code following most of the tasks.\n",
    "\n",
    "Don't forget to submit your solutions to Moodle."
   ]
  },
  {
   "cell_type": "code",
   "execution_count": 0,
   "metadata": {
    "application/vnd.databricks.v1+cell": {
     "cellMetadata": {
      "byteLimit": 2048000,
      "rowLimit": 10000
     },
     "inputWidgets": {},
     "nuid": "ad4557d9-0e8a-493b-9650-345c3970f37e",
     "showTitle": false,
     "title": ""
    }
   },
   "outputs": [],
   "source": [
    "# some imports that might be required in the tasks\n",
    "\n",
    "from typing import List, Tuple\n",
    "\n",
    "from pyspark.ml.evaluation import RegressionEvaluator\n",
    "from pyspark.ml.feature import VectorAssembler\n",
    "from pyspark.ml.regression import LinearRegression\n",
    "from pyspark.ml.regression import LinearRegressionModel\n",
    "from pyspark.rdd import RDD\n",
    "from pyspark.sql import Row\n",
    "from pyspark.sql import DataFrame\n",
    "from pyspark.sql import functions\n",
    "from pyspark.sql.types import *\n"
   ]
  },
  {
   "cell_type": "code",
   "execution_count": 0,
   "metadata": {
    "application/vnd.databricks.v1+cell": {
     "cellMetadata": {
      "byteLimit": 2048000,
      "rowLimit": 10000
     },
     "inputWidgets": {},
     "nuid": "80d1ee55-9b5c-48c8-b932-bdbc19fd9d11",
     "showTitle": false,
     "title": ""
    }
   },
   "outputs": [],
   "source": [
    "# the initial data for the linear regression tasks\n",
    "hugeSequenceOfXYData: List[Row] = [\n",
    "    Row(0.0, 0.0), Row(0.3, 0.5), Row(0.9, 0.8), Row(1.0, 0.8), Row(5.2, 5.8), Row(6.9, 7.2),\n",
    "    Row(6.4, 6.8), Row(2.0, 2.2), Row(2.2, 2.4), Row(3.0, 3.7), Row(4.0, 4.3), Row(3.8, 4.0),\n",
    "    Row(7.1, 9.0), Row(1.9, 1.9), Row(1.5, 1.4), Row(3.2, 3.9), Row(3.5, 4.1), Row(1.2, 1.1),\n",
    "    Row(5.9, 5.7), Row(6.1, 6.7), Row(4.4, 4.6), Row(5.5, 5.2), Row(6.6, 7.2), Row(6.9, 7.9),\n",
    "    Row(3.1, 4.0), Row(0.1, 0.2), Row(7.8, 8.8), Row(4.7, 5.0), Row(4.8, 5.0), Row(7.5, 8.2)\n",
    "]\n",
    "dataRDD: RDD[Row] = spark.sparkContext.parallelize(hugeSequenceOfXYData)\n"
   ]
  },
  {
   "cell_type": "markdown",
   "metadata": {
    "application/vnd.databricks.v1+cell": {
     "cellMetadata": {
      "byteLimit": 2048000,
      "rowLimit": 10000
     },
     "inputWidgets": {},
     "nuid": "19881c0a-3690-45ca-a670-5b9ef7ba194d",
     "showTitle": false,
     "title": ""
    }
   },
   "source": [
    "## Task 1 - Linear regression - Creating data frame\n",
    "\n",
    "### Background\n",
    "\n",
    "Wikipedia defines: [Simple Linear Regression](https://en.wikipedia.org/wiki/Simple_linear_regression)\n",
    "\n",
    "In statistics, simple linear regression is a linear regression model with a single explanatory variable.\n",
    "That is, it concerns two-dimensional sample points with one independent variable and one dependent variable\n",
    "(conventionally, the x and y coordinates in a Cartesian coordinate system) and finds a linear function (a non-vertical straight line)\n",
    "that, as accurately as possible, predicts the dependent variable values as a function of the independent variable.\n",
    "The adjective simple refers to the fact that the outcome variable is related to a single predictor.\n",
    "\n",
    "You are given an `dataRDD` of Rows (the first element are the `x` and the second the `y` values). We are aiming at finding simple linear regression model\n",
    "for the dataset using Spark ML library. I.e. find a function `f` so that `y = f(x)` (for the 2-dimensional case `f(x)=ax+b`).\n",
    "\n",
    "### Task instructions\n",
    "\n",
    "Transform the given `dataRDD` to a DataFrame `dataDF`, with two columns `X` (of type Double) and `label` (of type Double).\n",
    "(`label`used here because that is the default dependent variable name in Spark ML library)\n",
    "\n",
    "Then split the rows in the data frame into training and testing data frames.\n"
   ]
  },
  {
   "cell_type": "code",
   "execution_count": 0,
   "metadata": {
    "application/vnd.databricks.v1+cell": {
     "cellMetadata": {
      "byteLimit": 2048000,
      "rowLimit": 10000
     },
     "inputWidgets": {},
     "nuid": "5f1179f0-dc5e-472e-a5f0-278cc7f812a0",
     "showTitle": false,
     "title": ""
    }
   },
   "outputs": [
    {
     "output_type": "stream",
     "name": "stdout",
     "output_type": "stream",
     "text": [
      "Training set size: 24\nTest set size: 6\nTraining set (showing only the first 6 points):\n+---+-----+\n|  X|label|\n+---+-----+\n|0.0|  0.0|\n|0.3|  0.5|\n|0.9|  0.8|\n|1.0|  0.8|\n|6.4|  6.8|\n|6.9|  7.2|\n+---+-----+\nonly showing top 6 rows\n\n"
     ]
    }
   ],
   "source": [
    "from pyspark.sql import SparkSession\n",
    "from pyspark.sql.functions import col\n",
    "schema = StructType([\n",
    "    StructField(\"X\", DoubleType(), True), StructField(\"label\", DoubleType(), True)])\n",
    "dataDF: DataFrame = spark.createDataFrame(dataRDD, schema)\n",
    "\n",
    "# Split the data into training and testing datasets (roughly 80% for training, 20% for testing)\n",
    "trainTestArray: List[DataFrame] = dataDF.randomSplit([0.8, 0.2], seed=1)\n",
    "\n",
    "trainingDF: DataFrame = trainTestArray[0]\n",
    "testDF: DataFrame = trainTestArray[1]\n",
    "\n",
    "print(f\"Training set size: {trainingDF.count()}\")\n",
    "print(f\"Test set size: {testDF.count()}\")\n",
    "print(\"Training set (showing only the first 6 points):\")\n",
    "trainingDF.show(6)\n"
   ]
  },
  {
   "cell_type": "markdown",
   "metadata": {
    "application/vnd.databricks.v1+cell": {
     "cellMetadata": {
      "byteLimit": 2048000,
      "rowLimit": 10000
     },
     "inputWidgets": {},
     "nuid": "ed10c46d-fea6-491b-8870-471bf247c088",
     "showTitle": false,
     "title": ""
    }
   },
   "source": [
    "Example output for task 1 (the data splitting done by using seed value of 1 for data frames random splitting method, different values are possible even with the same seed):\n",
    "\n",
    "```text\n",
    "Training set size: 24\n",
    "Test set size: 6\n",
    "Training set (showing only the first 6 points):\n",
    "+---+-----+\n",
    "|  X|label|\n",
    "+---+-----+\n",
    "|0.0|  0.0|\n",
    "|0.3|  0.5|\n",
    "|0.9|  0.8|\n",
    "|1.0|  0.8|\n",
    "|6.4|  6.8|\n",
    "|6.9|  7.2|\n",
    "+---+-----+\n",
    "only showing top 6 rows\n",
    "```\n",
    "\n",
    "Your output does not have to match this exactly, not even with the sizes of the training and test sets.\n"
   ]
  },
  {
   "cell_type": "markdown",
   "metadata": {
    "application/vnd.databricks.v1+cell": {
     "cellMetadata": {
      "byteLimit": 2048000,
      "rowLimit": 10000
     },
     "inputWidgets": {},
     "nuid": "85e74ceb-ae97-487b-9584-71303c0cef8a",
     "showTitle": false,
     "title": ""
    }
   },
   "source": [
    "## Task 2 - Linear regression - Training the model\n",
    "\n",
    "To be able to use the ML algorithms in Spark the input data must be given as vectors in one column. To make it easy to transform the input data into this vector format, Spark offers VectorAssembler objects.\n",
    "\n",
    "Create a `VectorAssembler` for mapping input column `X` to `features`column and apply it to training data frame, `trainingDF,` in order to create assembled training data frame.\n",
    "\n",
    "Then create a `LinearRegression` object use it and the assembled training data frame to train a linear regression model.\n"
   ]
  },
  {
   "cell_type": "code",
   "execution_count": 0,
   "metadata": {
    "application/vnd.databricks.v1+cell": {
     "cellMetadata": {
      "byteLimit": 2048000,
      "rowLimit": 10000
     },
     "inputWidgets": {},
     "nuid": "e032f3c9-af10-449c-9178-a0166d369c5a",
     "showTitle": false,
     "title": ""
    }
   },
   "outputs": [
    {
     "output_type": "stream",
     "name": "stdout",
     "output_type": "stream",
     "text": [
      "+---+-----+--------+\n|  X|label|features|\n+---+-----+--------+\n|0.0|  0.0|   [0.0]|\n|0.3|  0.5|   [0.3]|\n|0.9|  0.8|   [0.9]|\n|1.0|  0.8|   [1.0]|\n|6.4|  6.8|   [6.4]|\n|6.9|  7.2|   [6.9]|\n+---+-----+--------+\nonly showing top 6 rows\n\n"
     ]
    }
   ],
   "source": [
    "vectorAssembler: VectorAssembler = VectorAssembler(inputCols=[\"X\"], outputCol=\"features\")\n",
    "\n",
    "assembledTrainingDF: DataFrame = vectorAssembler.transform(trainingDF)\n",
    "assembledTrainingDF.show(6)\n"
   ]
  },
  {
   "cell_type": "code",
   "execution_count": 0,
   "metadata": {
    "application/vnd.databricks.v1+cell": {
     "cellMetadata": {
      "byteLimit": 2048000,
      "rowLimit": 10000
     },
     "inputWidgets": {},
     "nuid": "e9078d3e-6604-48b2-8474-586e80523fda",
     "showTitle": false,
     "title": ""
    }
   },
   "outputs": [
    {
     "output_type": "stream",
     "name": "stdout",
     "output_type": "stream",
     "text": [
      "+---+-----+--------+--------------------+\n|  X|label|features|          prediction|\n+---+-----+--------+--------------------+\n|0.0|  0.0|   [0.0]|-0.09366503067484776|\n|0.3|  0.5|   [0.3]|  0.2398981595092013|\n|0.9|  0.8|   [0.9]|  0.9070245398772995|\n|1.0|  0.8|   [1.0]|  1.0182122699386493|\n|6.4|  6.8|   [6.4]|   7.022349693251533|\n|6.9|  7.2|   [6.9]|   7.578288343558281|\n+---+-----+--------+--------------------+\nonly showing top 6 rows\n\n"
     ]
    }
   ],
   "source": [
    "lr = LinearRegression(featuresCol=\"features\", labelCol=\"label\")\n",
    "\n",
    "# you can print explanations for all the parameters that can be used for linear regression by uncommenting the following:\n",
    "#print(lr.explainParams())\n",
    "\n",
    "lrModel: LinearRegressionModel = lr.fit(assembledTrainingDF)\n",
    "lrModel.summary.predictions.show(6)\n"
   ]
  },
  {
   "cell_type": "markdown",
   "metadata": {
    "application/vnd.databricks.v1+cell": {
     "cellMetadata": {
      "byteLimit": 2048000,
      "rowLimit": 10000
     },
     "inputWidgets": {},
     "nuid": "1926945c-d52b-43e0-9cb5-2b8127ea9958",
     "showTitle": false,
     "title": ""
    }
   },
   "source": [
    "Example outputs for task 2:\n",
    "\n",
    "```text\n",
    "+---+-----+--------+\n",
    "|  X|label|features|\n",
    "+---+-----+--------+\n",
    "|0.0|  0.0|   [0.0]|\n",
    "|0.3|  0.5|   [0.3]|\n",
    "|0.9|  0.8|   [0.9]|\n",
    "|1.0|  0.8|   [1.0]|\n",
    "|6.4|  6.8|   [6.4]|\n",
    "|6.9|  7.2|   [6.9]|\n",
    "+---+-----+--------+\n",
    "only showing top 6 rows\n",
    "```\n",
    "\n",
    "and\n",
    "\n",
    "```text\n",
    "+---+-----+--------+--------------------+\n",
    "|  X|label|features|          prediction|\n",
    "+---+-----+--------+--------------------+\n",
    "|0.0|  0.0|   [0.0]|-0.09366503067484776|\n",
    "|0.3|  0.5|   [0.3]|  0.2398981595092013|\n",
    "|0.9|  0.8|   [0.9]|  0.9070245398772995|\n",
    "|1.0|  0.8|   [1.0]|  1.0182122699386493|\n",
    "|6.4|  6.8|   [6.4]|   7.022349693251533|\n",
    "|6.9|  7.2|   [6.9]|   7.578288343558281|\n",
    "+---+-----+--------+--------------------+\n",
    "only showing top 6 rows\n",
    "```\n"
   ]
  },
  {
   "cell_type": "markdown",
   "metadata": {
    "application/vnd.databricks.v1+cell": {
     "cellMetadata": {
      "byteLimit": 2048000,
      "rowLimit": 10000
     },
     "inputWidgets": {},
     "nuid": "b12284c7-272b-4680-95f0-1d56fc23157b",
     "showTitle": false,
     "title": ""
    }
   },
   "source": [
    "## Task 3 - Linear regression - Test the model\n",
    "\n",
    "Apply the trained linear regression model from task 2 to the test dataset.\n",
    "\n",
    "Then calculate the RMSE (root mean square error) for the test dataset predictions using `RegressionEvaluator` from Spark ML library.\n",
    "\n",
    "(The cell after the example output can be used to visualize the linear regression tasks)\n"
   ]
  },
  {
   "cell_type": "code",
   "execution_count": 0,
   "metadata": {
    "application/vnd.databricks.v1+cell": {
     "cellMetadata": {
      "byteLimit": 2048000,
      "rowLimit": 10000
     },
     "inputWidgets": {},
     "nuid": "1fa31fc4-7be5-4aa7-ad15-56f6facc4977",
     "showTitle": false,
     "title": ""
    }
   },
   "outputs": [
    {
     "output_type": "stream",
     "name": "stdout",
     "output_type": "stream",
     "text": [
      "+---+-----+--------+--------------------+\n|  X|label|features|          prediction|\n+---+-----+--------+--------------------+\n|5.2|  5.8|   [5.2]|   5.688096932515337|\n|3.8|  4.0|   [3.8]|    4.13146871165644|\n|3.2|  3.9|   [3.2]|   3.464342331288343|\n|6.1|  6.7|   [6.1]|   6.688786503067483|\n|0.1|  0.2|   [0.1]|0.017522699386501944|\n|7.5|  8.2|   [7.5]|    8.24541472392638|\n+---+-----+--------+--------------------+\n\nThe RMSE for the model is 0.20619171009294207\n"
     ]
    }
   ],
   "source": [
    "testPredictions: DataFrame = lrModel.transform(vectorAssembler.transform(testDF))\n",
    "testPredictions.show()\n",
    "\n",
    "testEvaluator: RegressionEvaluator = RegressionEvaluator(labelCol=\"label\", predictionCol=\"prediction\", metricName=\"rmse\")\n",
    "\n",
    "# you can print explanations for all the parameters that can be used for the regression evaluator by uncommenting the following:\n",
    "# print(testEvaluator.explainParams())\n",
    "\n",
    "testError: float = testEvaluator.evaluate(testPredictions)\n",
    "print(f\"The RMSE for the model is {testError}\")\n"
   ]
  },
  {
   "cell_type": "markdown",
   "metadata": {
    "application/vnd.databricks.v1+cell": {
     "cellMetadata": {
      "byteLimit": 2048000,
      "rowLimit": 10000
     },
     "inputWidgets": {},
     "nuid": "2e193843-0ab7-4bb1-92fb-b6ebebf98371",
     "showTitle": false,
     "title": ""
    }
   },
   "source": [
    "Example output for task 3:\n",
    "\n",
    "```text\n",
    "+---+-----+--------+--------------------+\n",
    "|  X|label|features|          prediction|\n",
    "+---+-----+--------+--------------------+\n",
    "|5.2|  5.8|   [5.2]|   5.688096932515337|\n",
    "|3.8|  4.0|   [3.8]|    4.13146871165644|\n",
    "|3.2|  3.9|   [3.2]|   3.464342331288343|\n",
    "|6.1|  6.7|   [6.1]|   6.688786503067483|\n",
    "|0.1|  0.2|   [0.1]|0.017522699386501944|\n",
    "|7.5|  8.2|   [7.5]|    8.24541472392638|\n",
    "+---+-----+--------+--------------------+\n",
    "\n",
    "The RMSE for the model is 0.20619171009294207\n",
    "```\n",
    "\n",
    "0 for RMSE would indicate perfect fit and the more deviations there are the larger RMSE will be.\n",
    "\n",
    "You can try different seed for dividing the data and different parameters for the linear regression to get different results.\n"
   ]
  },
  {
   "cell_type": "code",
   "execution_count": 0,
   "metadata": {
    "application/vnd.databricks.v1+cell": {
     "cellMetadata": {
      "byteLimit": 2048000,
      "rowLimit": 10000
     },
     "inputWidgets": {},
     "nuid": "a51435bd-eb36-45ef-bd55-91e989b673ac",
     "showTitle": false,
     "title": ""
    }
   },
   "outputs": [
    {
     "output_type": "display_data",
     "data": {
      "image/png": "[encoded data removed]",
      "text/plain": [
       "<Figure size 640x480 with 1 Axes>"
      ]
     },
     "metadata": {},
     "output_type": "display_data"
    }
   ],
   "source": [
    "# visualization of the linear regression exercise (can be done since there are only limited number of source data points)\n",
    "from matplotlib import pyplot\n",
    "\n",
    "training_data = trainingDF.collect()\n",
    "test_data = testDF.collect()\n",
    "test_predictions = testPredictions.collect()\n",
    "\n",
    "x_values_training = [row[0] for row in training_data]\n",
    "y_values_training = [row[1] for row in training_data]\n",
    "x_values_test = [row[0] for row in test_data]\n",
    "y_values_test = [row[1] for row in test_data]\n",
    "x_predictions = [row[0] for row in test_predictions]\n",
    "y_predictions = [row[3] for row in test_predictions]\n",
    "\n",
    "pyplot.xlabel(\"x\")\n",
    "pyplot.ylabel(\"y\")\n",
    "pyplot.xlim(min(x_values_training+x_values_test), max(x_values_training+x_values_test))\n",
    "pyplot.ylim(min(y_values_training+y_values_test), max(y_values_training+y_values_test))\n",
    "pyplot.plot(x_values_training, y_values_training, 'bo')\n",
    "pyplot.plot(x_values_test, y_values_test, 'go')\n",
    "pyplot.plot(x_predictions, y_predictions, 'r-')\n",
    "pyplot.legend([\"training data\", \"test data\", \"prediction line\"])\n",
    "pyplot.show()\n"
   ]
  },
  {
   "cell_type": "markdown",
   "metadata": {
    "application/vnd.databricks.v1+cell": {
     "cellMetadata": {
      "byteLimit": 2048000,
      "rowLimit": 10000
     },
     "inputWidgets": {},
     "nuid": "a790dd3b-b86e-4ddc-b950-9523466459d3",
     "showTitle": false,
     "title": ""
    }
   },
   "source": [
    "## Task 4 - Linear regression - making predictions\n",
    "\n",
    "Use the trained `LinearRegressionModel` from task 2 to predict the `y` values for the following `x` values: `-1.5`, `2.5`, `8.5`, `31.4`\n"
   ]
  },
  {
   "cell_type": "code",
   "execution_count": 0,
   "metadata": {
    "application/vnd.databricks.v1+cell": {
     "cellMetadata": {
      "byteLimit": 2048000,
      "rowLimit": 10000
     },
     "inputWidgets": {},
     "nuid": "f5b01c09-3e6e-4dbd-bb44-1fad32cdfa5f",
     "showTitle": false,
     "title": ""
    }
   },
   "outputs": [
    {
     "output_type": "stream",
     "name": "stdout",
     "output_type": "stream",
     "text": [
      "+----+-------------------+\n|   X|         prediction|\n+----+-------------------+\n|-1.5|-1.7614809815950931|\n| 2.5| 2.6860282208588946|\n| 8.5|  9.357292024539877|\n|31.4|  34.81928220858895|\n+----+-------------------+\n\n"
     ]
    }
   ],
   "source": [
    "given_values = [(x,) for x in [-1.5, 2.5, 8.5, 31.4]]\n",
    "given_valuesDataFrame = spark.createDataFrame(given_values, ['X'])\n",
    "\n",
    "given_valuesDataFrame_vectorAssemble = lrModel.transform(vectorAssembler.transform(given_valuesDataFrame))\n",
    "given_valuesDataFrame_vectorAssemble.select('X', 'prediction').show()\n"
   ]
  },
  {
   "cell_type": "markdown",
   "metadata": {
    "application/vnd.databricks.v1+cell": {
     "cellMetadata": {
      "byteLimit": 2048000,
      "rowLimit": 10000
     },
     "inputWidgets": {},
     "nuid": "5acc3e62-19ec-4c27-a3e2-899fd816dba1",
     "showTitle": false,
     "title": ""
    }
   },
   "source": [
    "Example output for task 4:\n",
    "\n",
    "```text\n",
    "+----+-------------------+\n",
    "|   X|         prediction|\n",
    "+----+-------------------+\n",
    "|-1.5|-1.7614809815950931|\n",
    "| 2.5| 2.6860282208588946|\n",
    "| 8.5|  9.357292024539877|\n",
    "|31.4|  34.81928220858895|\n",
    "+----+-------------------+\n",
    "```\n"
   ]
  },
  {
   "cell_type": "markdown",
   "metadata": {
    "application/vnd.databricks.v1+cell": {
     "cellMetadata": {
      "byteLimit": 2048000,
      "rowLimit": 10000
     },
     "inputWidgets": {},
     "nuid": "65f49a08-808a-4c00-85d1-52d98e71fa53",
     "showTitle": false,
     "title": ""
    }
   },
   "source": [
    "## Task 5 - RDD - Loading text data\n",
    "\n",
    "There are three scientific articles in the [shared container](https://portal.azure.com/#view/Microsoft_Azure_Storage/ContainerMenuBlade/~/overview/storageAccountId/%2Fsubscriptions%2Fe0c78478-e7f8-429c-a25f-015eae9f54bb%2FresourceGroups%2Ftuni-cs320-f2023-rg%2Fproviders%2FMicrosoft.Storage%2FstorageAccounts%2Ftunics320f2023gen2/path/shared/etag/%220x8DBB0695B02FFFE%22/defaultEncryptionScope/%24account-encryption-key/denyEncryptionScopeOverride~/false/defaultId//publicAccessVal/None) at folder `exercises/ex4/`. The direct address to the folder is: `abfss://shared@tunics320f2023gen2.dfs.core.windows.net/exercises/ex4`.\n",
    "\n",
    "Load the text from the articles into a single RDD.\n",
    "\n",
    "Then count the total number of lines in the articles and print out the first 10 lines from the RDD.\n"
   ]
  },
  {
   "cell_type": "code",
   "execution_count": 0,
   "metadata": {
    "application/vnd.databricks.v1+cell": {
     "cellMetadata": {
      "byteLimit": 2048000,
      "rowLimit": 10000
     },
     "inputWidgets": {},
     "nuid": "6d7f9af3-e19e-4297-9f5f-77fd66a7bb94",
     "showTitle": false,
     "title": ""
    }
   },
   "outputs": [
    {
     "output_type": "stream",
     "name": "stdout",
     "output_type": "stream",
     "text": [
      "numberOfLines: 2919\n=============================================================\nJournal of Universal Computer Science, vol. 7, no. 1 (2001), 3-18\nsubmitted: 1/9/00, accepted: 13/10/00, appeared: 28/1/01  Springer Pub. Co.\n\nDisCo Toolset - The New Generation\nTimo Aaltonen\n(Tampere University of Technology, Finland\ntimo.aaltonen@tut.fi)\n\nMika Katara\n(Tampere University of Technology, Finland\n=============================================================\n"
     ]
    }
   ],
   "source": [
    "articlesRdd: RDD[str] = spark.sparkContext.textFile('abfss://shared@tunics320f2023gen2.dfs.core.windows.net/exercises/ex4')  \n",
    "\n",
    "numberOfLines: int = articlesRdd.count()\n",
    "print(f\"numberOfLines: {numberOfLines}\")\n",
    "\n",
    "lines10: List[str] = articlesRdd.take(10)\n",
    "print(\"=============================================================\")\n",
    "print(*lines10, sep=\"\\n\")\n",
    "print(\"=============================================================\")\n"
   ]
  },
  {
   "cell_type": "markdown",
   "metadata": {
    "application/vnd.databricks.v1+cell": {
     "cellMetadata": {
      "byteLimit": 2048000,
      "rowLimit": 10000
     },
     "inputWidgets": {},
     "nuid": "422e545c-3310-4760-90b3-ff248809dd9c",
     "showTitle": false,
     "title": ""
    }
   },
   "source": [
    "Example output for task 5:\n",
    "\n",
    "```text\n",
    "numberOfLines: 2919\n",
    "=============================================================\n",
    "Journal of Universal Computer Science, vol. 7, no. 1 (2001), 3-18\n",
    "submitted: 1/9/00, accepted: 13/10/00, appeared: 28/1/01  Springer Pub. Co.\n",
    "\n",
    "DisCo Toolset - The New Generation\n",
    "Timo Aaltonen\n",
    "(Tampere University of Technology, Finland\n",
    "timo.aaltonen@tut.fi)\n",
    "\n",
    "Mika Katara\n",
    "(Tampere University of Technology, Finland\n",
    "=============================================================\n",
    "```\n",
    "\n",
    "If you load the articles in a different order, you might get different output for the first 10 lines here.\n"
   ]
  },
  {
   "cell_type": "markdown",
   "metadata": {
    "application/vnd.databricks.v1+cell": {
     "cellMetadata": {
      "byteLimit": 2048000,
      "rowLimit": 10000
     },
     "inputWidgets": {},
     "nuid": "ba4a9734-d632-4410-bc73-6b4647b3584b",
     "showTitle": false,
     "title": ""
    }
   },
   "source": [
    "## Task 6 - RDD - Counting elements\n",
    "\n",
    "Using the `articlesRDD` defined in task 5 to count the total number of words in the articles. (you can assume that words are separated from each by white space characters, '` `')\n",
    "\n",
    "Then count the total number of non-white space characters in the articles.\n"
   ]
  },
  {
   "cell_type": "code",
   "execution_count": 0,
   "metadata": {
    "application/vnd.databricks.v1+cell": {
     "cellMetadata": {
      "byteLimit": 2048000,
      "rowLimit": 10000
     },
     "inputWidgets": {},
     "nuid": "fffb0912-16e6-483c-8cff-1681c49bc638",
     "showTitle": false,
     "title": ""
    }
   },
   "outputs": [
    {
     "output_type": "stream",
     "name": "stdout",
     "output_type": "stream",
     "text": [
      "numberOfWords: 17333\nnumberOfCharacters: 95171\n"
     ]
    }
   ],
   "source": [
    "numberOfWords: int = articlesRdd.flatMap(lambda line: line.split()).count()\n",
    "print(f\"numberOfWords: {numberOfWords}\")\n",
    "\n",
    "numberOfCharacters: int = articlesRdd.map(lambda article: len(article.replace(\" \", \"\"))).reduce(lambda x, y: x + y)\n",
    "print(f\"numberOfCharacters: {numberOfCharacters}\")\n"
   ]
  },
  {
   "cell_type": "markdown",
   "metadata": {
    "application/vnd.databricks.v1+cell": {
     "cellMetadata": {
      "byteLimit": 2048000,
      "rowLimit": 10000
     },
     "inputWidgets": {},
     "nuid": "125616ef-0344-4d2c-8a35-9af879fe5856",
     "showTitle": false,
     "title": ""
    }
   },
   "source": [
    "Example output for task 6:\n",
    "\n",
    "```text\n",
    "numberOfWords: 17333\n",
    "numberOfCharacters: 95171\n",
    "```\n"
   ]
  },
  {
   "cell_type": "markdown",
   "metadata": {
    "application/vnd.databricks.v1+cell": {
     "cellMetadata": {
      "byteLimit": 2048000,
      "rowLimit": 10000
     },
     "inputWidgets": {},
     "nuid": "4ab6bba4-fc29-4834-baea-06e62dd158f5",
     "showTitle": false,
     "title": ""
    }
   },
   "source": [
    "## Task 7 - RDD - Most common word\n",
    "\n",
    "For the final RDD task in this exercise find the answers to the following questions.\n",
    "\n",
    "- How many 6-letter words are there in the corpus?\n",
    "- What is the most often appearing 6-letter word and how many times does it appear?\n"
   ]
  },
  {
   "cell_type": "code",
   "execution_count": 0,
   "metadata": {
    "application/vnd.databricks.v1+cell": {
     "cellMetadata": {
      "byteLimit": 2048000,
      "rowLimit": 10000
     },
     "inputWidgets": {},
     "nuid": "d12b673a-893e-4749-aacb-3ce96400b945",
     "showTitle": false,
     "title": ""
    }
   },
   "outputs": [
    {
     "output_type": "stream",
     "name": "stdout",
     "output_type": "stream",
     "text": [
      "6-letter words: 1188\nThe most common 6-letter word is 'action' and it appears 102 times\n"
     ]
    }
   ],
   "source": [
    "words6Count: int = articlesRdd.flatMap(lambda line: line.split()).filter(lambda word: len(word) == 6).count()\n",
    "print(f\"6-letter words: {words6Count}\")\n",
    "\n",
    "wordCounts = articlesRdd.flatMap(lambda line: line.split()).filter(lambda word: len(word) == 6).countByValue()\n",
    "\n",
    "commonWord: str = max(wordCounts, key=wordCounts.get)\n",
    "commonWordCount: int = wordCounts[commonWord]\n",
    "print(f\"The most common 6-letter word is '{commonWord}' and it appears {commonWordCount} times\")\n"
   ]
  },
  {
   "cell_type": "markdown",
   "metadata": {
    "application/vnd.databricks.v1+cell": {
     "cellMetadata": {
      "byteLimit": 2048000,
      "rowLimit": 10000
     },
     "inputWidgets": {},
     "nuid": "d246ef21-cbcd-4e08-a9fd-a725d76351a0",
     "showTitle": false,
     "title": ""
    }
   },
   "source": [
    "Example output for task 7:\n",
    "\n",
    "```text\n",
    "6-letter words: 1188\n",
    "The most common 6-letter word is 'action' and it appears 102 times\n",
    "```\n"
   ]
  }
 ],
 "metadata": {
  "application/vnd.databricks.v1+notebook": {
   "dashboards": [],
   "language": "python",
   "notebookMetadata": {
    "pythonIndentUnit": 4
   },
   "notebookName": "Week4_Md Anisul Islam Mahmud",
   "widgets": {}
  }
 },
 "nbformat": 4,
 "nbformat_minor": 0
}
